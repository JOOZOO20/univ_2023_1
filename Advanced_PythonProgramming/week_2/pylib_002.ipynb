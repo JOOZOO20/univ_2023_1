{
  "nbformat": 4,
  "nbformat_minor": 0,
  "metadata": {
    "colab": {
      "provenance": []
    },
    "kernelspec": {
      "name": "python3",
      "display_name": "Python 3"
    },
    "language_info": {
      "name": "python"
    }
  },
  "cells": [
    {
      "cell_type": "markdown",
      "source": [
        "###009"
      ],
      "metadata": {
        "id": "yZvtKbi2fpse"
      }
    },
    {
      "cell_type": "code",
      "execution_count": null,
      "metadata": {
        "id": "GZ-23JM-dN04"
      },
      "outputs": [],
      "source": [
        "data=[('홍길동',23,'01099990001'),\n",
        "      ('김철수',31,'01099990002'),\n",
        "      ('이영희',29,'01099990003')\n",
        "      ]"
      ]
    },
    {
      "cell_type": "code",
      "source": [
        "from collections import namedtuple"
      ],
      "metadata": {
        "id": "5wnRWQDMgwpw"
      },
      "execution_count": null,
      "outputs": []
    },
    {
      "cell_type": "code",
      "source": [
        "Employee = namedtuple('Employee','name,age,cellphone')\n"
      ],
      "metadata": {
        "id": "BAESEx17hEAT"
      },
      "execution_count": null,
      "outputs": []
    },
    {
      "cell_type": "code",
      "source": [
        "data=[Employee(emp[0], emp[1], emp[2]) for emp in data]"
      ],
      "metadata": {
        "id": "vNk13DC4iSmg"
      },
      "execution_count": null,
      "outputs": []
    },
    {
      "cell_type": "code",
      "source": [
        "# [i*100 for i in[1,2,3]]"
      ],
      "metadata": {
        "id": "30ZA2xvwi2kw"
      },
      "execution_count": null,
      "outputs": []
    },
    {
      "cell_type": "code",
      "source": [
        "data"
      ],
      "metadata": {
        "colab": {
          "base_uri": "https://localhost:8080/"
        },
        "id": "UJpPcVxrjCsL",
        "outputId": "d55bf1a0-050a-40e4-bfa0-1a2173dc6fef"
      },
      "execution_count": null,
      "outputs": [
        {
          "output_type": "execute_result",
          "data": {
            "text/plain": [
              "[Employee(name='홍길동', age=23, cellphone='01099990001'),\n",
              " Employee(name='김철수', age=31, cellphone='01099990002'),\n",
              " Employee(name='이영희', age=29, cellphone='01099990003')]"
            ]
          },
          "metadata": {},
          "execution_count": 8
        }
      ]
    },
    {
      "cell_type": "code",
      "source": [
        "data2 = [Employee._make(emp) for emp in data]"
      ],
      "metadata": {
        "id": "8N17Qyy4izqq"
      },
      "execution_count": null,
      "outputs": []
    },
    {
      "cell_type": "code",
      "source": [
        "data2"
      ],
      "metadata": {
        "colab": {
          "base_uri": "https://localhost:8080/"
        },
        "id": "OecrIR9FjU9W",
        "outputId": "aed7ef77-c3cc-40bb-a378-d70864d047b0"
      },
      "execution_count": null,
      "outputs": [
        {
          "output_type": "execute_result",
          "data": {
            "text/plain": [
              "[Employee(name='홍길동', age=23, cellphone='01099990001'),\n",
              " Employee(name='김철수', age=31, cellphone='01099990002'),\n",
              " Employee(name='이영희', age=29, cellphone='01099990003')]"
            ]
          },
          "metadata": {},
          "execution_count": 10
        }
      ]
    },
    {
      "cell_type": "code",
      "source": [
        "emp = data[0]\n",
        "print(emp.name)\n",
        "print(emp.age)\n",
        "print(emp.cellphone)"
      ],
      "metadata": {
        "id": "GOlxbOl5gfu0",
        "colab": {
          "base_uri": "https://localhost:8080/"
        },
        "outputId": "6048704a-f6bb-4ee1-814a-e2c633c56f8c"
      },
      "execution_count": null,
      "outputs": [
        {
          "output_type": "stream",
          "name": "stdout",
          "text": [
            "홍길동\n",
            "23\n",
            "01099990001\n"
          ]
        }
      ]
    },
    {
      "cell_type": "code",
      "source": [
        "emp[0]"
      ],
      "metadata": {
        "colab": {
          "base_uri": "https://localhost:8080/",
          "height": 35
        },
        "id": "f07p1dPFjiMJ",
        "outputId": "f6f3872f-8ec9-44b6-fbf6-72067215244c"
      },
      "execution_count": null,
      "outputs": [
        {
          "output_type": "execute_result",
          "data": {
            "text/plain": [
              "'홍길동'"
            ],
            "application/vnd.google.colaboratory.intrinsic+json": {
              "type": "string"
            }
          },
          "metadata": {},
          "execution_count": 13
        }
      ]
    },
    {
      "cell_type": "code",
      "source": [
        "emp[1]"
      ],
      "metadata": {
        "colab": {
          "base_uri": "https://localhost:8080/"
        },
        "id": "S9HgZnBqjjQb",
        "outputId": "93ccd0c1-c14f-470e-d37d-ed10ada130ec"
      },
      "execution_count": null,
      "outputs": [
        {
          "output_type": "execute_result",
          "data": {
            "text/plain": [
              "23"
            ]
          },
          "metadata": {},
          "execution_count": 14
        }
      ]
    },
    {
      "cell_type": "code",
      "source": [
        "emp[2]"
      ],
      "metadata": {
        "colab": {
          "base_uri": "https://localhost:8080/",
          "height": 35
        },
        "id": "CdotDTHsjj_T",
        "outputId": "3813b8e2-8734-467c-b61e-713d8691a763"
      },
      "execution_count": null,
      "outputs": [
        {
          "output_type": "execute_result",
          "data": {
            "text/plain": [
              "'01099990001'"
            ],
            "application/vnd.google.colaboratory.intrinsic+json": {
              "type": "string"
            }
          },
          "metadata": {},
          "execution_count": 15
        }
      ]
    },
    {
      "cell_type": "code",
      "source": [
        "emp._asdict() #튜플인데 as 마치 dict 딕셔너리처럼 만들어줘라~~"
      ],
      "metadata": {
        "id": "T9iDkOIBhbKV",
        "colab": {
          "base_uri": "https://localhost:8080/"
        },
        "outputId": "82af6c3d-c3f1-4def-f69a-ff6ba5e0af6e"
      },
      "execution_count": null,
      "outputs": [
        {
          "output_type": "execute_result",
          "data": {
            "text/plain": [
              "{'name': '홍길동', 'age': 23, 'cellphone': '01099990001'}"
            ]
          },
          "metadata": {},
          "execution_count": 16
        }
      ]
    },
    {
      "cell_type": "code",
      "source": [
        "#emp.name='박길동' (x)\n",
        "emp._replace(name=\"차희주\")\n",
        "  # 기존에 있던 튜플의 값에서, name에 대한 값만 바꾼 \"새로운\" 객체를 형성한 것임. 값이 바뀐게 아님!"
      ],
      "metadata": {
        "colab": {
          "base_uri": "https://localhost:8080/"
        },
        "id": "rqPvbDbSiPW7",
        "outputId": "d9057e2a-8866-4032-a185-c4ca6682cb87"
      },
      "execution_count": null,
      "outputs": [
        {
          "output_type": "execute_result",
          "data": {
            "text/plain": [
              "Employee(name='차희주주', age=23, cellphone='01099990001')"
            ]
          },
          "metadata": {},
          "execution_count": 18
        }
      ]
    },
    {
      "cell_type": "code",
      "source": [
        "data[0] = emp._replace(name='차희주')\n",
        "data"
      ],
      "metadata": {
        "colab": {
          "base_uri": "https://localhost:8080/"
        },
        "id": "UwRNyrLbkWE8",
        "outputId": "b469bb44-dccb-4d6d-b793-bb010a1fa5a3"
      },
      "execution_count": null,
      "outputs": [
        {
          "output_type": "execute_result",
          "data": {
            "text/plain": [
              "[Employee(name='차희주', age=23, cellphone='01099990001'),\n",
              " Employee(name='김철수', age=31, cellphone='01099990002'),\n",
              " Employee(name='이영희', age=29, cellphone='01099990003')]"
            ]
          },
          "metadata": {},
          "execution_count": 19
        }
      ]
    },
    {
      "cell_type": "markdown",
      "source": [
        "###010"
      ],
      "metadata": {
        "id": "W1qHdvyef0fs"
      }
    },
    {
      "cell_type": "code",
      "source": [
        "#from collections import Counter.py\n",
        "from collections import Counter\n",
        "import re\n",
        "\n",
        "\n",
        "#따옴표 세개 입력하면 줄바꿈을 포함한 문자열을 입력할 수 있음.\n",
        "#맨끝에 역슬래시 붙이면 값 달라지는 거 유의\n",
        "data = \"\"\" \n",
        "산에는 꽃 피네.\\\n",
        "꽃이 피네.\\\n",
        "갈 봄 여름없이\\\n",
        "꽃이 피네.\\\n",
        "산에\n",
        "산에\n",
        "피는 꽃은\n",
        "저만치 혼자서 피어있네.\n",
        "산에서 우는 새여\n",
        "꽃이 좋아\n",
        "산에서\n",
        "사노라네.\n",
        "산에는 꽃지네\n",
        "꽃이 지네.\n",
        "갈 봄 여름 없이\n",
        "꽃이 지네.\n",
        "\"\"\"\n"
      ],
      "metadata": {
        "id": "LBJourSwiulW"
      },
      "execution_count": null,
      "outputs": []
    },
    {
      "cell_type": "code",
      "source": [
        "data"
      ],
      "metadata": {
        "colab": {
          "base_uri": "https://localhost:8080/",
          "height": 70
        },
        "id": "EpkVS61ilMrz",
        "outputId": "fa599dc9-06dc-4125-a4e2-a919ce5cca4c"
      },
      "execution_count": null,
      "outputs": [
        {
          "output_type": "execute_result",
          "data": {
            "text/plain": [
              "' \\n산에는 꽃 피네.꽃이 피네.갈 봄 여름없이꽃이 피네.산에\\n산에\\n피는 꽃은\\n저만치 혼자서 피어있네.\\n산에서 우는 새여\\n꽃이 좋아\\n산에서\\n사노라네.\\n산에는 꽃지네\\n꽃이 지네.\\n갈 봄 여름 없이\\n꽃이 지네.\\n'"
            ],
            "application/vnd.google.colaboratory.intrinsic+json": {
              "type": "string"
            }
          },
          "metadata": {},
          "execution_count": 58
        }
      ]
    },
    {
      "cell_type": "code",
      "source": [
        "from collections import Counter\n",
        "import re\n",
        "\n",
        "'''\n",
        "words=re.findall('\\w{1}\\s', data) #w : [a-z A-Z 0-9_]'''\n",
        "\n",
        "words=re.findall('\\w+', data) #w : [a-z A-Z 0-9_]\n",
        "words"
      ],
      "metadata": {
        "colab": {
          "base_uri": "https://localhost:8080/"
        },
        "id": "7SBgNFepld84",
        "outputId": "5d4d558f-6d8f-4790-a5c7-9081a64ff36e"
      },
      "execution_count": null,
      "outputs": [
        {
          "output_type": "execute_result",
          "data": {
            "text/plain": [
              "['산에는',\n",
              " '꽃',\n",
              " '피네',\n",
              " '꽃이',\n",
              " '피네',\n",
              " '갈',\n",
              " '봄',\n",
              " '여름없이꽃이',\n",
              " '피네',\n",
              " '산에',\n",
              " '산에',\n",
              " '피는',\n",
              " '꽃은',\n",
              " '저만치',\n",
              " '혼자서',\n",
              " '피어있네',\n",
              " '산에서',\n",
              " '우는',\n",
              " '새여',\n",
              " '꽃이',\n",
              " '좋아',\n",
              " '산에서',\n",
              " '사노라네',\n",
              " '산에는',\n",
              " '꽃지네',\n",
              " '꽃이',\n",
              " '지네',\n",
              " '갈',\n",
              " '봄',\n",
              " '여름',\n",
              " '없이',\n",
              " '꽃이',\n",
              " '지네']"
            ]
          },
          "metadata": {},
          "execution_count": 60
        }
      ]
    },
    {
      "cell_type": "code",
      "source": [
        "counter = Counter(words)\n",
        "counter"
      ],
      "metadata": {
        "colab": {
          "base_uri": "https://localhost:8080/"
        },
        "id": "T0tIrN2klvK7",
        "outputId": "797dab4b-4b0c-4634-fb29-91cfff5dabf8"
      },
      "execution_count": null,
      "outputs": [
        {
          "output_type": "execute_result",
          "data": {
            "text/plain": [
              "Counter({'산에는': 2,\n",
              "         '꽃': 1,\n",
              "         '피네': 3,\n",
              "         '꽃이': 5,\n",
              "         '갈': 2,\n",
              "         '봄': 2,\n",
              "         '여름없이': 1,\n",
              "         '산에': 2,\n",
              "         '피는': 1,\n",
              "         '꽃은': 1,\n",
              "         '저만치': 1,\n",
              "         '혼자서': 1,\n",
              "         '피어있네': 1,\n",
              "         '산에서': 2,\n",
              "         '우는': 1,\n",
              "         '새여': 1,\n",
              "         '좋아': 1,\n",
              "         '사노라네': 1,\n",
              "         '꽃지네': 1,\n",
              "         '지네': 2,\n",
              "         '여름': 1,\n",
              "         '없이': 1})"
            ]
          },
          "metadata": {},
          "execution_count": 28
        }
      ]
    },
    {
      "cell_type": "code",
      "source": [
        "words=re.findall(r'\\w+',data)\n",
        "counter=Counter(words)\n",
        "print(counter.most_common(1))"
      ],
      "metadata": {
        "colab": {
          "base_uri": "https://localhost:8080/"
        },
        "id": "XWrx8UKWkaiw",
        "outputId": "a4f9b745-08b4-45b1-bd7b-6b25a0da92a0"
      },
      "execution_count": null,
      "outputs": [
        {
          "output_type": "stream",
          "name": "stdout",
          "text": [
            "[('꽃이', 4)]\n"
          ]
        }
      ]
    },
    {
      "cell_type": "code",
      "source": [
        "print(counter.most_common(2))"
      ],
      "metadata": {
        "colab": {
          "base_uri": "https://localhost:8080/"
        },
        "id": "CFEt4cQLktis",
        "outputId": "607091ee-b570-41c3-c5c7-4b67aa409608"
      },
      "execution_count": null,
      "outputs": [
        {
          "output_type": "stream",
          "name": "stdout",
          "text": [
            "[('꽃이', 4), ('피네', 3)]\n"
          ]
        }
      ]
    },
    {
      "cell_type": "markdown",
      "source": [
        "###011"
      ],
      "metadata": {
        "id": "lJT7jKoqf3MD"
      }
    },
    {
      "cell_type": "code",
      "source": [
        "#nu (not use)\n",
        "\n",
        "\n",
        "# d = defaultdict(int)\n",
        "# for c in text:\n",
        "#     d[c] += 1\n",
        "\n",
        "# print(dict(d))"
      ],
      "metadata": {
        "colab": {
          "base_uri": "https://localhost:8080/"
        },
        "id": "yAeIzEUPlFEM",
        "outputId": "0673e4a9-e9a3-4016-95e9-bcf28b6da52f"
      },
      "execution_count": null,
      "outputs": [
        {
          "output_type": "stream",
          "name": "stdout",
          "text": [
            "{'L': 1, 'i': 2, 'f': 1, 'e': 3, ' ': 6, 's': 2, 't': 3, 'o': 5, 'h': 2, 'r': 1, ',': 1, 'Y': 1, 'u': 1, 'n': 2, 'd': 1, 'p': 1, 'y': 1, '.': 1}\n"
          ]
        }
      ]
    },
    {
      "cell_type": "code",
      "source": [
        "text = \"Life is too short, You need python.\""
      ],
      "metadata": {
        "id": "EBGf8evknNdy"
      },
      "execution_count": null,
      "outputs": []
    },
    {
      "cell_type": "code",
      "source": [
        "letters=re.findall('[a-zA-Z,.{1}]',text)\n",
        "letters"
      ],
      "metadata": {
        "colab": {
          "base_uri": "https://localhost:8080/"
        },
        "id": "1cYGCQrGnGEP",
        "outputId": "1ed2e049-156e-4a80-c54e-2720de915188"
      },
      "execution_count": null,
      "outputs": [
        {
          "output_type": "execute_result",
          "data": {
            "text/plain": [
              "['L',\n",
              " 'i',\n",
              " 'f',\n",
              " 'e',\n",
              " 'i',\n",
              " 's',\n",
              " 't',\n",
              " 'o',\n",
              " 'o',\n",
              " 's',\n",
              " 'h',\n",
              " 'o',\n",
              " 'r',\n",
              " 't',\n",
              " ',',\n",
              " 'Y',\n",
              " 'o',\n",
              " 'u',\n",
              " 'n',\n",
              " 'e',\n",
              " 'e',\n",
              " 'd',\n",
              " 'p',\n",
              " 'y',\n",
              " 't',\n",
              " 'h',\n",
              " 'o',\n",
              " 'n',\n",
              " '.']"
            ]
          },
          "metadata": {},
          "execution_count": 37
        }
      ]
    },
    {
      "cell_type": "code",
      "source": [
        "counter=Counter(letters)\n",
        "counter"
      ],
      "metadata": {
        "colab": {
          "base_uri": "https://localhost:8080/"
        },
        "id": "Fl-JPuB9nmGm",
        "outputId": "61694773-7fae-4ab2-c25a-4ab23a316acd"
      },
      "execution_count": null,
      "outputs": [
        {
          "output_type": "execute_result",
          "data": {
            "text/plain": [
              "Counter({'L': 1,\n",
              "         'i': 2,\n",
              "         'f': 1,\n",
              "         'e': 3,\n",
              "         's': 2,\n",
              "         't': 3,\n",
              "         'o': 5,\n",
              "         'h': 2,\n",
              "         'r': 1,\n",
              "         ',': 1,\n",
              "         'Y': 1,\n",
              "         'u': 1,\n",
              "         'n': 2,\n",
              "         'd': 1,\n",
              "         'p': 1,\n",
              "         'y': 1,\n",
              "         '.': 1})"
            ]
          },
          "metadata": {},
          "execution_count": 38
        }
      ]
    },
    {
      "cell_type": "code",
      "source": [
        "text = \"Life is too short, You need python.\"\n",
        "\n",
        "d=dict()\n",
        "for key in text:\n",
        "  if key not in d: #key가 d에 없다면\n",
        "    d[key]=0\n",
        "  # d[key]=d[key]+1\n",
        "  \n",
        "d"
      ],
      "metadata": {
        "colab": {
          "base_uri": "https://localhost:8080/"
        },
        "id": "55_Q8v0HmfwV",
        "outputId": "b40d364a-7ba6-4319-f631-bd5f18191dbb"
      },
      "execution_count": null,
      "outputs": [
        {
          "output_type": "execute_result",
          "data": {
            "text/plain": [
              "{'L': 0,\n",
              " 'i': 0,\n",
              " 'f': 0,\n",
              " 'e': 0,\n",
              " ' ': 0,\n",
              " 's': 0,\n",
              " 't': 0,\n",
              " 'o': 0,\n",
              " 'h': 0,\n",
              " 'r': 0,\n",
              " ',': 0,\n",
              " 'Y': 0,\n",
              " 'u': 0,\n",
              " 'n': 0,\n",
              " 'd': 0,\n",
              " 'p': 0,\n",
              " 'y': 0,\n",
              " '.': 0}"
            ]
          },
          "metadata": {},
          "execution_count": 41
        }
      ]
    },
    {
      "cell_type": "code",
      "source": [
        "from collections import defaultdict\n",
        "\n",
        "text = \"Life is too short, You need python.\"\n",
        "\n",
        "d = defaultdict(int)\n",
        "for key in text:\n",
        "    d[key] += 1\n",
        "\n",
        "print(dict(d))"
      ],
      "metadata": {
        "colab": {
          "base_uri": "https://localhost:8080/"
        },
        "id": "2rnd1l14msxv",
        "outputId": "2331165a-7dda-4ee7-d7c4-191c774378a1"
      },
      "execution_count": null,
      "outputs": [
        {
          "output_type": "stream",
          "name": "stdout",
          "text": [
            "{'L': 1, 'i': 2, 'f': 1, 'e': 3, ' ': 6, 's': 2, 't': 3, 'o': 5, 'h': 2, 'r': 1, ',': 1, 'Y': 1, 'u': 1, 'n': 2, 'd': 1, 'p': 1, 'y': 1, '.': 1}\n"
          ]
        }
      ]
    },
    {
      "cell_type": "markdown",
      "source": [
        "###012"
      ],
      "metadata": {
        "id": "vHJluGFTf4FX"
      }
    },
    {
      "cell_type": "code",
      "source": [
        "# #heapq_sample.py (1)\n",
        "# import heapq\n",
        "\n",
        "# data = [\n",
        "#     (12.23, \"강보람\"),\n",
        "#     (12.31, \"김지원\"),\n",
        "#     (11.98, \"박시우\"),\n",
        "#     (11.99, \"장준혁\"),\n",
        "#     (11.67, \"차정웅\"),\n",
        "#     (12.02, \"박중수\"),\n",
        "#     (11.57, \"차동현\"),\n",
        "#     (12.04, \"고미숙\"),\n",
        "#     (11.92, \"한시우\"),\n",
        "#     (12.22, \"이민석\"),\n",
        "# ]\n",
        "\n",
        "# print(heapq.nsmallest(3, data))"
      ],
      "metadata": {
        "colab": {
          "base_uri": "https://localhost:8080/"
        },
        "id": "aA8mROrJnKyI",
        "outputId": "e7d31b61-5436-4350-cb9e-a142cf5fd7c4"
      },
      "execution_count": null,
      "outputs": [
        {
          "output_type": "stream",
          "name": "stdout",
          "text": [
            "[(11.57, '차동현'), (11.67, '차정웅'), (11.92, '한시우')]\n"
          ]
        }
      ]
    },
    {
      "cell_type": "code",
      "source": [
        "data = [\n",
        "    (12.23, \"강보람\"),\n",
        "    (12.31, \"김지원\"),\n",
        "    (11.98, \"박시우\"),\n",
        "    (11.99, \"장준혁\"),\n",
        "    (11.67, \"차정웅\"),\n",
        "    (12.02, \"박중수\"),\n",
        "    (11.57, \"차동현\"),\n",
        "    (12.04, \"고미숙\"),\n",
        "    (11.92, \"한시우\"),\n",
        "    (12.22, \"이민석\"),\n",
        "]"
      ],
      "metadata": {
        "id": "QtUyQr1Rq1gj"
      },
      "execution_count": null,
      "outputs": []
    },
    {
      "cell_type": "code",
      "source": [
        "import heapq\n",
        "\n",
        "h=[]\n",
        "for score in data:\n",
        "  heapq.heappush(h,score)\n",
        "\n",
        "h"
      ],
      "metadata": {
        "colab": {
          "base_uri": "https://localhost:8080/"
        },
        "id": "1vKvYecvqs2K",
        "outputId": "85a41de0-efc2-4d75-b9fc-d6e896a73ec8"
      },
      "execution_count": null,
      "outputs": [
        {
          "output_type": "execute_result",
          "data": {
            "text/plain": [
              "[(11.57, '차동현'),\n",
              " (11.92, '한시우'),\n",
              " (11.67, '차정웅'),\n",
              " (11.98, '박시우'),\n",
              " (11.99, '장준혁'),\n",
              " (12.23, '강보람'),\n",
              " (12.02, '박중수'),\n",
              " (12.31, '김지원'),\n",
              " (12.04, '고미숙'),\n",
              " (12.22, '이민석')]"
            ]
          },
          "metadata": {},
          "execution_count": 45
        }
      ]
    },
    {
      "cell_type": "code",
      "source": [
        "heapq.heappop(h)"
      ],
      "metadata": {
        "colab": {
          "base_uri": "https://localhost:8080/"
        },
        "id": "hvTe33p0rFBx",
        "outputId": "a2075755-1196-445a-c2f5-b90e6173cdc2"
      },
      "execution_count": null,
      "outputs": [
        {
          "output_type": "execute_result",
          "data": {
            "text/plain": [
              "(11.67, '차정웅')"
            ]
          },
          "metadata": {},
          "execution_count": 47
        }
      ]
    },
    {
      "cell_type": "code",
      "source": [
        "heapq.heappop(h)"
      ],
      "metadata": {
        "colab": {
          "base_uri": "https://localhost:8080/"
        },
        "id": "wFCc-68OrHOy",
        "outputId": "94bebb00-db8a-454b-d881-a1f745aea54e"
      },
      "execution_count": null,
      "outputs": [
        {
          "output_type": "execute_result",
          "data": {
            "text/plain": [
              "(11.92, '한시우')"
            ]
          },
          "metadata": {},
          "execution_count": 49
        }
      ]
    },
    {
      "cell_type": "code",
      "source": [
        "heapq.heappop(h)"
      ],
      "metadata": {
        "colab": {
          "base_uri": "https://localhost:8080/"
        },
        "id": "MILdcwUvrLth",
        "outputId": "0c568e36-8576-4c14-b7d7-4026c313a2ef"
      },
      "execution_count": null,
      "outputs": [
        {
          "output_type": "execute_result",
          "data": {
            "text/plain": [
              "(11.98, '박시우')"
            ]
          },
          "metadata": {},
          "execution_count": 51
        }
      ]
    },
    {
      "cell_type": "code",
      "source": [
        "import heapq\n",
        "h=[]\n",
        "for score in data:\n",
        "  heapq.heappush(h,score)\n",
        "\n",
        "h"
      ],
      "metadata": {
        "colab": {
          "base_uri": "https://localhost:8080/"
        },
        "id": "0Rtb7SBtrazL",
        "outputId": "b77558fb-84d6-4a99-e72f-dfaa603c6e56"
      },
      "execution_count": null,
      "outputs": [
        {
          "output_type": "execute_result",
          "data": {
            "text/plain": [
              "[(11.57, '차동현'),\n",
              " (11.92, '한시우'),\n",
              " (11.67, '차정웅'),\n",
              " (11.98, '박시우'),\n",
              " (11.99, '장준혁'),\n",
              " (12.23, '강보람'),\n",
              " (12.02, '박중수'),\n",
              " (12.31, '김지원'),\n",
              " (12.04, '고미숙'),\n",
              " (12.22, '이민석')]"
            ]
          },
          "metadata": {},
          "execution_count": 53
        }
      ]
    },
    {
      "cell_type": "code",
      "source": [
        "#heapq_sample.py (2)\n",
        "import heapq\n",
        "\n",
        "h=[]\n",
        "\n",
        "heapq.heapify(data)\n",
        "data\n",
        "\n",
        "# for i in range(3):\n",
        "#   print(heapq.heappop(data)) #최소값부터 힙 반환\n"
      ],
      "metadata": {
        "colab": {
          "base_uri": "https://localhost:8080/"
        },
        "id": "LbBfEHFlnRqn",
        "outputId": "8a8bdf74-1715-4683-d3d3-044a5a0c99f3"
      },
      "execution_count": null,
      "outputs": [
        {
          "output_type": "execute_result",
          "data": {
            "text/plain": [
              "[(11.57, '차동현'),\n",
              " (11.67, '차정웅'),\n",
              " (11.98, '박시우'),\n",
              " (11.92, '한시우'),\n",
              " (12.22, '이민석'),\n",
              " (12.02, '박중수'),\n",
              " (12.23, '강보람'),\n",
              " (12.04, '고미숙'),\n",
              " (11.99, '장준혁'),\n",
              " (12.31, '김지원')]"
            ]
          },
          "metadata": {},
          "execution_count": 54
        }
      ]
    },
    {
      "cell_type": "code",
      "source": [
        "#heapq_sample.py (3)\n",
        "import heapq\n",
        "\n",
        "data = [\n",
        "    (12.23, \"강보람\"),\n",
        "    (12.31, \"김지원\"),\n",
        "    (11.98, \"박시우\"),\n",
        "    (11.99, \"장준혁\"),\n",
        "    (11.67, \"차정웅\"),\n",
        "    (12.02, \"박중수\"),\n",
        "    (11.57, \"차동현\"),\n",
        "    (12.04, \"고미숙\"),\n",
        "    (11.92, \"한시우\"),\n",
        "    (12.22, \"이민석\"),\n",
        "]\n",
        "\n",
        "print(heapq.nsmallest(3,data))\n"
      ],
      "metadata": {
        "colab": {
          "base_uri": "https://localhost:8080/"
        },
        "id": "DMZ4yN82nq4G",
        "outputId": "355dd66b-f280-4c0a-8f31-0d8ba6307326"
      },
      "execution_count": null,
      "outputs": [
        {
          "output_type": "stream",
          "name": "stdout",
          "text": [
            "[(11.57, '차동현'), (11.67, '차정웅'), (11.92, '한시우')]\n"
          ]
        }
      ]
    },
    {
      "cell_type": "markdown",
      "source": [
        "###013"
      ],
      "metadata": {
        "id": "MrAlfJTFf4kh"
      }
    },
    {
      "cell_type": "code",
      "source": [
        "import pprint\n",
        "result={'userId':1,'id':1,'title':'sunt aun facere repella provident occaecatiexcepturi optio reprehenderit','body':'quia et suscipit\\msisco[ot recusandae consequuntur expedita et cum\\nreprehenderit molestiae ut ut quas totam\\nnostrum rerum est autem sunt rem eveniet architexto'}\n",
        "pprint.pprint(result)"
      ],
      "metadata": {
        "colab": {
          "base_uri": "https://localhost:8080/"
        },
        "id": "guDsEkFsn04H",
        "outputId": "a763e225-1373-4ba1-d78f-82f98148804c"
      },
      "execution_count": null,
      "outputs": [
        {
          "output_type": "stream",
          "name": "stdout",
          "text": [
            "{'body': 'quia et suscipit\\\\msisco[ot recusandae consequuntur expedita et cum\\n'\n",
            "         'reprehenderit molestiae ut ut quas totam\\n'\n",
            "         'nostrum rerum est autem sunt rem eveniet architexto',\n",
            " 'id': 1,\n",
            " 'title': 'sunt aun facere repella provident occaecatiexcepturi optio '\n",
            "          'reprehenderit',\n",
            " 'userId': 1}\n"
          ]
        }
      ]
    },
    {
      "cell_type": "markdown",
      "source": [
        "###014"
      ],
      "metadata": {
        "id": "bpDKmAiBf5Eb"
      }
    },
    {
      "cell_type": "code",
      "source": [
        "# 일반적 파이썬\n",
        "scores=[33, 99, 77, 70, 89, 90, 100]\n",
        "\n",
        "result=[]\n",
        "for score in scores:\n",
        "  if score>=90:\n",
        "    result.append('A')\n",
        "  elif score>=80:\n",
        "    result.append('B')\n",
        "  elif score>=70:\n",
        "    result.append('C')\n",
        "  elif score>=60:\n",
        "    result.append('D')\n",
        "  else:\n",
        "    result.append('F')\n",
        "\n",
        "result"
      ],
      "metadata": {
        "colab": {
          "base_uri": "https://localhost:8080/"
        },
        "id": "c2KcsXA00Ukp",
        "outputId": "b072ccc6-f3f8-456f-d8b0-223d0bae8f4d"
      },
      "execution_count": null,
      "outputs": [
        {
          "output_type": "execute_result",
          "data": {
            "text/plain": [
              "['F', 'A', 'C', 'C', 'B', 'A', 'A']"
            ]
          },
          "metadata": {},
          "execution_count": 66
        }
      ]
    },
    {
      "cell_type": "code",
      "source": [
        "import bisect\n",
        "scores=[33, 99, 77, 70, 89, 90, 100]\n",
        "\n",
        "\n",
        "result=[]\n",
        "for score in scores:\n",
        "  pos=bisect.bisect([60,70,80,90],score)\n",
        "  grade='FDCBA'[pos]\n",
        "  result.append(grade)\n",
        "\n",
        "print(result)"
      ],
      "metadata": {
        "colab": {
          "base_uri": "https://localhost:8080/"
        },
        "id": "sgIRaHL72AHF",
        "outputId": "23dc0fcc-a85e-4efe-bec1-4a5b710e1455"
      },
      "execution_count": null,
      "outputs": [
        {
          "output_type": "stream",
          "name": "stdout",
          "text": [
            "['F', 'A', 'C', 'C', 'B', 'A', 'A']\n"
          ]
        }
      ]
    },
    {
      "cell_type": "code",
      "source": [
        "#bisect_sample.py (1)\n",
        "import bisect\n",
        "\n",
        "result = []\n",
        "for score in [33, 99, 77, 70, 89, 90, 100]:\n",
        "    pos = bisect.bisect_right([60, 70, 80, 90], score)  # 점수가 정렬되어 삽입될 수 있는 포지션을 반환\n",
        "    grade = 'FDCBA'[pos]\n",
        "    result.append(grade)\n",
        "\n",
        "print(result)"
      ],
      "metadata": {
        "colab": {
          "base_uri": "https://localhost:8080/"
        },
        "id": "L06niLB6ozUm",
        "outputId": "65e6b17c-1424-4736-84c4-776ed4513391"
      },
      "execution_count": null,
      "outputs": [
        {
          "output_type": "stream",
          "name": "stdout",
          "text": [
            "['F', 'A', 'C', 'C', 'B', 'A', 'A']\n"
          ]
        }
      ]
    },
    {
      "cell_type": "code",
      "source": [
        "#bisect_sample.py (2)\n",
        "import bisect\n",
        "\n",
        "result = []\n",
        "for score in [33, 99, 77, 70, 89, 90, 100]:\n",
        "    pos = bisect.bisect_left([60, 70, 80, 90], score)  # 점수가 정렬되어 삽입될 수 있는 포지션을 반환\n",
        "    grade = 'FDCBA'[pos]\n",
        "    result.append(grade)\n",
        "\n",
        "print(result)"
      ],
      "metadata": {
        "colab": {
          "base_uri": "https://localhost:8080/"
        },
        "id": "IOAgkxgMo9R7",
        "outputId": "7b0ae983-2472-4f0a-9509-71bfef7cb7a8"
      },
      "execution_count": null,
      "outputs": [
        {
          "output_type": "stream",
          "name": "stdout",
          "text": [
            "['F', 'A', 'C', 'D', 'B', 'B', 'A']\n"
          ]
        }
      ]
    },
    {
      "cell_type": "code",
      "source": [
        "import bisect\n",
        "a=[60,70,80,90]\n",
        "bisect.insort(a,85) #insort도 bisect처럼 left와 right가 존재함.\n",
        "a"
      ],
      "metadata": {
        "colab": {
          "base_uri": "https://localhost:8080/"
        },
        "id": "QbvyHFI82xuP",
        "outputId": "25b4ea9d-439a-4875-da0c-a3ea08c9c4a5"
      },
      "execution_count": null,
      "outputs": [
        {
          "output_type": "execute_result",
          "data": {
            "text/plain": [
              "[60, 70, 80, 85, 90]"
            ]
          },
          "metadata": {},
          "execution_count": 71
        }
      ]
    },
    {
      "cell_type": "markdown",
      "source": [
        "###015"
      ],
      "metadata": {
        "id": "_-FkDwtdf5l4"
      }
    },
    {
      "cell_type": "code",
      "source": [
        "from datetime import date\n",
        "\n",
        "def get_menu(input_date):\n",
        "  weekday=input_date.isoweekday()\n",
        "  if weekday == 1:\n",
        "    menu = \"김치찌개\"\n",
        "  elif weekday == 2:\n",
        "    menu =\"비빔밥\"\n",
        "  elif weekday == 3:\n",
        "    menu = \"된장찌개\"\n",
        "  elif weekday == 4:\n",
        "    menu = \"불고기\"\n",
        "  elif weekday == 5:\n",
        "    menu = \"갈비탕\"\n",
        "  elif weekday == 6:\n",
        "    menu = \"라면\"\n",
        "  elif weekday == 7:\n",
        "    menu = \"건빵\"\n",
        "  return menu\n",
        "\n",
        "print(get_menu(date (2021, 12, 6)))\n",
        "print(get_menu(date (2021, 12, 18)))\n",
        "  "
      ],
      "metadata": {
        "colab": {
          "base_uri": "https://localhost:8080/"
        },
        "id": "IfvH1QJopKqg",
        "outputId": "3e3c2400-0a7d-4d2c-cc40-b37eb69635b0"
      },
      "execution_count": null,
      "outputs": [
        {
          "output_type": "stream",
          "name": "stdout",
          "text": [
            "김치찌개\n",
            "라면면\n"
          ]
        }
      ]
    },
    {
      "cell_type": "code",
      "source": [
        "#enum_sample.py\n",
        "from datetime import date\n",
        "from enum import IntEnum\n",
        "\n",
        "#enum.IntEnum클래스를 상속하여 새로운 enum.Enum클래스(Enum) 구현\n",
        "\n",
        "class Week(IntEnum):\n",
        "    MONDAY = 1\n",
        "    TUESDAY = 2\n",
        "    WEDNESDAY = 3\n",
        "    THURSDAY = 4\n",
        "    FRIDAY = 5\n",
        "    SATURDAY = 6\n",
        "    SUNDAY = 7\n",
        "\n",
        "\n",
        "def get_menu(input_date):\n",
        "    menu = {\n",
        "        Week.MONDAY: \"김치찌개\",\n",
        "        Week.TUESDAY: \"비빔밥\",\n",
        "        Week.WEDNESDAY: \"된장찌개\",\n",
        "        Week.THURSDAY: \"불고기\",\n",
        "        Week.FRIDAY: \"갈비탕\",\n",
        "        Week.SATURDAY: \"라면\",\n",
        "        Week.SUNDAY: \"건빵\",\n",
        "    }\n",
        "    return menu[input_date.isoweekday()]\n",
        "\n",
        "#류타이쿠진_푸팟퐁커리 맛잇겟다\n",
        "\n",
        "print(get_menu(date(2020, 12, 6)))\n",
        "print(get_menu(date(2020, 12, 18)))"
      ],
      "metadata": {
        "colab": {
          "base_uri": "https://localhost:8080/"
        },
        "id": "L0xL_w7KqqBu",
        "outputId": "be5ea0f1-dfb1-44a3-f9c1-203eb1acdcfd"
      },
      "execution_count": null,
      "outputs": [
        {
          "output_type": "stream",
          "name": "stdout",
          "text": [
            "건빵\n",
            "갈비탕\n"
          ]
        }
      ]
    },
    {
      "cell_type": "markdown",
      "source": [
        "###016"
      ],
      "metadata": {
        "id": "eExFsaQLf6Mx"
      }
    },
    {
      "cell_type": "code",
      "source": [
        "#topologicalsorter_sample.py\n",
        "from graphlib import TopologicalSorter\n",
        "\n",
        "# tree is graph's special 모양.\n",
        "\n",
        "\n",
        "ts = TopologicalSorter()\n",
        "\n",
        "# 규칙1\n",
        "ts.add('영어중급', '영어초급')  # 영어중급의 선수과목은 영어초급\n",
        "ts.add('영어고급', '영어중급')  # 영어고급의 선수과목은 영어중급\n",
        "\n",
        "# 규칙2\n",
        "ts.add('영어문법', '영어중급')  # 영어문법의 선수과목은 영어중급\n",
        "ts.add('영어고급','영어 중급', '영어문법')  # 영어고급의 선수과목은 영어문법\n",
        "\n",
        "# 규칙3\n",
        "ts.add('영어회화', '영어문법')  # 영어회화의 선수과목은 영어문법\n",
        "\n",
        "print(list(ts.static_order()))  # 위상정렬한 결과를 출력\n"
      ],
      "metadata": {
        "colab": {
          "base_uri": "https://localhost:8080/"
        },
        "id": "B2lV-wymqzc9",
        "outputId": "6fee986b-ac0a-4094-d4ea-a5efc9ce5989"
      },
      "execution_count": null,
      "outputs": [
        {
          "output_type": "stream",
          "name": "stdout",
          "text": [
            "['영어초급', '영어 중급', '영어중급', '영어문법', '영어고급', '영어회화']\n"
          ]
        }
      ]
    }
  ]
}