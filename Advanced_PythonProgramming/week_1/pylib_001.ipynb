{
  "nbformat": 4,
  "nbformat_minor": 0,
  "metadata": {
    "colab": {
      "provenance": []
    },
    "kernelspec": {
      "name": "python3",
      "display_name": "Python 3"
    },
    "language_info": {
      "name": "python"
    }
  },
  "cells": [
    {
      "cell_type": "markdown",
      "source": [
        "###001"
      ],
      "metadata": {
        "id": "4RQzSY-zeHuE"
      }
    },
    {
      "cell_type": "code",
      "execution_count": null,
      "metadata": {
        "id": "QT6uKb_QMYCa",
        "colab": {
          "base_uri": "https://localhost:8080/",
          "height": 35
        },
        "outputId": "676b4a63-4429-472b-d370-3a079c3fba7e"
      },
      "outputs": [
        {
          "output_type": "execute_result",
          "data": {
            "text/plain": [
              "'Life is [...]'"
            ],
            "application/vnd.google.colaboratory.intrinsic+json": {
              "type": "string"
            }
          },
          "metadata": {},
          "execution_count": 112
        }
      ],
      "source": [
        "#1\n",
        "import textwrap\n",
        "textwrap.shorten(\"Life is too short, you need python. \",width=15)"
      ]
    },
    {
      "cell_type": "code",
      "source": [
        "textwrap.shorten(\"인생은 짧으니, 파이썬이 필요해.\",width=15)"
      ],
      "metadata": {
        "id": "zqBHit1Ed6ur",
        "colab": {
          "base_uri": "https://localhost:8080/",
          "height": 35
        },
        "outputId": "b29f85d7-8d6c-42c6-9178-c1f8b7b47f9f"
      },
      "execution_count": null,
      "outputs": [
        {
          "output_type": "execute_result",
          "data": {
            "text/plain": [
              "'인생은 짧으니, [...]'"
            ],
            "application/vnd.google.colaboratory.intrinsic+json": {
              "type": "string"
            }
          },
          "metadata": {},
          "execution_count": 113
        }
      ]
    },
    {
      "cell_type": "code",
      "source": [
        "textwrap.shorten(\"Life is too short, you need python. \",width=15,placeholder=\"...\")"
      ],
      "metadata": {
        "colab": {
          "base_uri": "https://localhost:8080/",
          "height": 35
        },
        "id": "OlFgX0mzejaj",
        "outputId": "3da2e906-46bc-4f7e-adea-e5f7a3f20edf"
      },
      "execution_count": null,
      "outputs": [
        {
          "output_type": "execute_result",
          "data": {
            "text/plain": [
              "'Life is too...'"
            ],
            "application/vnd.google.colaboratory.intrinsic+json": {
              "type": "string"
            }
          },
          "metadata": {},
          "execution_count": 114
        }
      ]
    },
    {
      "cell_type": "code",
      "source": [
        "text='인생은 짧으니 파이썬이 필요해'*10\n",
        "text"
      ],
      "metadata": {
        "colab": {
          "base_uri": "https://localhost:8080/",
          "height": 53
        },
        "id": "lbRVhBH5enYr",
        "outputId": "d1872994-81a5-44dd-85d0-916f0ab8a582"
      },
      "execution_count": null,
      "outputs": [
        {
          "output_type": "execute_result",
          "data": {
            "text/plain": [
              "'인생은 짧으니 파이썬이 필요해인생은 짧으니 파이썬이 필요해인생은 짧으니 파이썬이 필요해인생은 짧으니 파이썬이 필요해인생은 짧으니 파이썬이 필요해인생은 짧으니 파이썬이 필요해인생은 짧으니 파이썬이 필요해인생은 짧으니 파이썬이 필요해인생은 짧으니 파이썬이 필요해인생은 짧으니 파이썬이 필요해'"
            ],
            "application/vnd.google.colaboratory.intrinsic+json": {
              "type": "string"
            }
          },
          "metadata": {},
          "execution_count": 115
        }
      ]
    },
    {
      "cell_type": "code",
      "source": [
        "textwrap.shorten(text,20)"
      ],
      "metadata": {
        "colab": {
          "base_uri": "https://localhost:8080/",
          "height": 35
        },
        "id": "gAvOCgDtes35",
        "outputId": "9701422e-f324-4337-90bc-3bec3e68d609"
      },
      "execution_count": null,
      "outputs": [
        {
          "output_type": "execute_result",
          "data": {
            "text/plain": [
              "'인생은 짧으니 파이썬이 [...]'"
            ],
            "application/vnd.google.colaboratory.intrinsic+json": {
              "type": "string"
            }
          },
          "metadata": {},
          "execution_count": 6
        }
      ]
    },
    {
      "cell_type": "markdown",
      "source": [
        "###002"
      ],
      "metadata": {
        "id": "Vl07ksveeQi_"
      }
    },
    {
      "cell_type": "code",
      "source": [
        "long_text=\"Life is too short, you need python. \"*10\n",
        "long_text"
      ],
      "metadata": {
        "colab": {
          "base_uri": "https://localhost:8080/",
          "height": 53
        },
        "id": "TMhCU1oVez5h",
        "outputId": "939c54a8-32ba-43ab-ebc5-eb8777f7c483"
      },
      "execution_count": null,
      "outputs": [
        {
          "output_type": "execute_result",
          "data": {
            "text/plain": [
              "'Life is too short, you need pythonLife is too short, you need pythonLife is too short, you need pythonLife is too short, you need pythonLife is too short, you need pythonLife is too short, you need pythonLife is too short, you need pythonLife is too short, you need pythonLife is too short, you need pythonLife is too short, you need python'"
            ],
            "application/vnd.google.colaboratory.intrinsic+json": {
              "type": "string"
            }
          },
          "metadata": {},
          "execution_count": 7
        }
      ]
    },
    {
      "cell_type": "code",
      "source": [
        "import textwrap\n",
        "result=textwrap.wrap(long_text)\n",
        "result"
      ],
      "metadata": {
        "colab": {
          "base_uri": "https://localhost:8080/"
        },
        "id": "QxcxpprvfJ4E",
        "outputId": "ce8b686b-9fc7-45ae-e35e-fd9cc55c4dd4"
      },
      "execution_count": null,
      "outputs": [
        {
          "output_type": "execute_result",
          "data": {
            "text/plain": [
              "['Life is too short, you need pythonLife is too short, you need',\n",
              " 'pythonLife is too short, you need pythonLife is too short, you need',\n",
              " 'pythonLife is too short, you need pythonLife is too short, you need',\n",
              " 'pythonLife is too short, you need pythonLife is too short, you need',\n",
              " 'pythonLife is too short, you need pythonLife is too short, you need',\n",
              " 'python']"
            ]
          },
          "metadata": {},
          "execution_count": 116
        }
      ]
    },
    {
      "cell_type": "code",
      "source": [
        "'\\n'.join(result)"
      ],
      "metadata": {
        "colab": {
          "base_uri": "https://localhost:8080/",
          "height": 53
        },
        "id": "dXq1QTs0fkI6",
        "outputId": "894b24a3-99ae-49b6-ce20-8cb132cfaf4f"
      },
      "execution_count": null,
      "outputs": [
        {
          "output_type": "execute_result",
          "data": {
            "text/plain": [
              "'Life is too short, you need pythonLife is too short, you need\\npythonLife is too short, you need pythonLife is too short, you need\\npythonLife is too short, you need pythonLife is too short, you need\\npythonLife is too short, you need pythonLife is too short, you need\\npythonLife is too short, you need pythonLife is too short, you need\\npython'"
            ],
            "application/vnd.google.colaboratory.intrinsic+json": {
              "type": "string"
            }
          },
          "metadata": {},
          "execution_count": 117
        }
      ]
    },
    {
      "cell_type": "code",
      "source": [
        "print('\\n',result)"
      ],
      "metadata": {
        "colab": {
          "base_uri": "https://localhost:8080/"
        },
        "id": "yEws9P7zf_XG",
        "outputId": "534a00e4-da05-4bb2-bac0-b36dd9995359"
      },
      "execution_count": null,
      "outputs": [
        {
          "output_type": "stream",
          "name": "stdout",
          "text": [
            "\n",
            " ['Life is too short, you need pythonLife is too short, you need', 'pythonLife is too short, you need pythonLife is too short, you need', 'pythonLife is too short, you need pythonLife is too short, you need', 'pythonLife is too short, you need pythonLife is too short, you need', 'pythonLife is too short, you need pythonLife is too short, you need', 'python']\n"
          ]
        }
      ]
    },
    {
      "cell_type": "code",
      "source": [
        "result=textwrap.fill(long_text,width=80)\n",
        "result"
      ],
      "metadata": {
        "colab": {
          "base_uri": "https://localhost:8080/",
          "height": 53
        },
        "id": "ceS-VuNAgLMZ",
        "outputId": "99630fb9-f354-41a3-9f6b-24be142be61d"
      },
      "execution_count": null,
      "outputs": [
        {
          "output_type": "execute_result",
          "data": {
            "text/plain": [
              "'Life is too short, you need pythonLife is too short, you need pythonLife is too\\nshort, you need pythonLife is too short, you need pythonLife is too short, you\\nneed pythonLife is too short, you need pythonLife is too short, you need\\npythonLife is too short, you need pythonLife is too short, you need pythonLife\\nis too short, you need python'"
            ],
            "application/vnd.google.colaboratory.intrinsic+json": {
              "type": "string"
            }
          },
          "metadata": {},
          "execution_count": 15
        }
      ]
    },
    {
      "cell_type": "code",
      "source": [
        "print(result)"
      ],
      "metadata": {
        "colab": {
          "base_uri": "https://localhost:8080/"
        },
        "id": "6LG7QhImglhO",
        "outputId": "5b352043-ecd2-4502-cfde-e2824d064708"
      },
      "execution_count": null,
      "outputs": [
        {
          "output_type": "stream",
          "name": "stdout",
          "text": [
            "Life is too short, you need pythonLife is too short, you need pythonLife is too\n",
            "short, you need pythonLife is too short, you need pythonLife is too short, you\n",
            "need pythonLife is too short, you need pythonLife is too short, you need\n",
            "pythonLife is too short, you need pythonLife is too short, you need pythonLife\n",
            "is too short, you need python\n"
          ]
        }
      ]
    },
    {
      "cell_type": "markdown",
      "source": [
        "##003"
      ],
      "metadata": {
        "id": "9Y5AmfWKilbz"
      }
    },
    {
      "cell_type": "code",
      "source": [
        "#re_nomal.sample.py\n",
        "data = \"\"\"\n",
        "홍길동의 주민번호는 800905-1049118 입니다. \n",
        "그리고 고길동의 주민번호는 700905-1059119 입니다.\n",
        "그렇다면 누가 형님일까요?\n",
        "\"\"\"\n",
        "print(data)"
      ],
      "metadata": {
        "colab": {
          "base_uri": "https://localhost:8080/"
        },
        "id": "ozuOgRm7jDIm",
        "outputId": "40c15803-453f-4760-ed52-db349a45c80b"
      },
      "execution_count": null,
      "outputs": [
        {
          "output_type": "stream",
          "name": "stdout",
          "text": [
            "\n",
            "홍길동의 주민번호는 800905-1049118 입니다. \n",
            "그리고 고길동의 주민번호는 700905-1059119 입니다.\n",
            "그렇다면 누가 형님일까요?\n",
            "\n"
          ]
        }
      ]
    },
    {
      "cell_type": "code",
      "source": [
        "result = []\n",
        "for line in data.split(\"\\n\"):\n",
        "    word_result = []\n",
        "    for word in line.split(\" \"):\n",
        "        if len(word) == 14 and word[:6].isdigit() and word[7:].isdigit():\n",
        "            word = word[:6] + \"-\" + \"*******\"\n",
        "        word_result.append(word)\n",
        "    result.append(\" \".join(word_result))\n",
        "print(\"\\n\".join(result))"
      ],
      "metadata": {
        "colab": {
          "base_uri": "https://localhost:8080/"
        },
        "id": "_7U_s6h-inVY",
        "outputId": "f7585f61-45be-4817-ee05-7bf1d7d9dba3"
      },
      "execution_count": null,
      "outputs": [
        {
          "output_type": "stream",
          "name": "stdout",
          "text": [
            "\n",
            "홍길동의 주민번호는 800905-******* 입니다. \n",
            "그리고 고길동의 주민번호는 700905-******* 입니다.\n",
            "그렇다면 누가 형님일까요?\n",
            "\n"
          ]
        }
      ]
    },
    {
      "cell_type": "code",
      "source": [
        "import re\n",
        "\n",
        "pattern = re.compile(\"(\\d{6})[-]\\d{7}\")\n",
        "print(pattern.sub(\"\\g<1>-*******\", data))"
      ],
      "metadata": {
        "colab": {
          "base_uri": "https://localhost:8080/"
        },
        "id": "PI1gSQx2iwOG",
        "outputId": "e222d520-9b70-4e64-e6c5-b5009f46aa76"
      },
      "execution_count": null,
      "outputs": [
        {
          "output_type": "stream",
          "name": "stdout",
          "text": [
            "\n",
            "홍길동의 주민번호는 800905-******* 입니다. \n",
            "그리고 고길동의 주민번호는 700905-******* 입니다.\n",
            "그렇다면 누가 형님일까요?\n",
            "\n"
          ]
        }
      ]
    },
    {
      "cell_type": "code",
      "source": [
        "pattern = re.compile(\"(\\d{6})[-]\\d{7}\")\n",
        "print(pattern.sub(\"\\g<1>-abcdefg\", data))"
      ],
      "metadata": {
        "colab": {
          "base_uri": "https://localhost:8080/"
        },
        "id": "mBd4cqA6i6A4",
        "outputId": "87b447e4-8d42-4810-9088-d84de82cb9aa"
      },
      "execution_count": null,
      "outputs": [
        {
          "output_type": "stream",
          "name": "stdout",
          "text": [
            "\n",
            "홍길동의 주민번호는 800905-abcdefg 입니다. \n",
            "그리고 고길동의 주민번호는 700905-abcdefg 입니다.\n",
            "그렇다면 누가 형님일까요?\n",
            "\n"
          ]
        }
      ]
    },
    {
      "cell_type": "markdown",
      "source": [
        "###004"
      ],
      "metadata": {
        "id": "5KiIJ5OosaXb"
      }
    },
    {
      "cell_type": "code",
      "source": [
        "%%writefile struct_sample.c\n",
        "\n",
        "#include <stdio.h>\n",
        "typedef struct {\n",
        "    double v;\n",
        "    int t;\n",
        "    char c;\n",
        "} save_type;\n",
        "\n",
        "int main() {\n",
        "    save_type s = {7.5f, 15, 'A'};\n",
        "    FILE *fp = fopen(\"output\", \"w\");\n",
        "    fwrite(&s, sizeof(save_type), 1, fp);\n",
        "    printf(\"%d\\n\",struct_sample)\n",
        "    fclose(fp);\n",
        "    return 0;\n",
        "}"
      ],
      "metadata": {
        "colab": {
          "base_uri": "https://localhost:8080/"
        },
        "id": "58GWjqIjsnUJ",
        "outputId": "cd62956d-38f9-4840-c8bd-702402872ca3"
      },
      "execution_count": null,
      "outputs": [
        {
          "output_type": "stream",
          "name": "stdout",
          "text": [
            "Overwriting struct_sample.c\n"
          ]
        }
      ]
    },
    {
      "cell_type": "code",
      "source": [
        "# 느낌표를 입력하면 리눅스 명령어 쓸 수 있게 해줌"
      ],
      "metadata": {
        "id": "RjAHAmEftpQD"
      },
      "execution_count": null,
      "outputs": []
    },
    {
      "cell_type": "code",
      "source": [
        "!ls -al"
      ],
      "metadata": {
        "colab": {
          "base_uri": "https://localhost:8080/"
        },
        "id": "ONziTaDPt6Q6",
        "outputId": "4301683f-aa66-49f7-db09-4db3445b6406"
      },
      "execution_count": null,
      "outputs": [
        {
          "output_type": "stream",
          "name": "stdout",
          "text": [
            "total 20\n",
            "drwxr-xr-x 1 root root 4096 Mar 14 01:22 .\n",
            "drwxr-xr-x 1 root root 4096 Mar 14 00:13 ..\n",
            "drwxr-xr-x 4 root root 4096 Mar 10 20:50 .config\n",
            "drwxr-xr-x 1 root root 4096 Mar 10 20:51 sample_data\n",
            "-rw-r--r-- 1 root root  247 Mar 14 01:22 struct_sample.c\n"
          ]
        }
      ]
    },
    {
      "cell_type": "code",
      "source": [
        "!cat struct_sample.c"
      ],
      "metadata": {
        "colab": {
          "base_uri": "https://localhost:8080/"
        },
        "id": "bYt2ccQ4t8jA",
        "outputId": "fab73c59-35fc-4cfb-fa28-41b017c41ebf"
      },
      "execution_count": null,
      "outputs": [
        {
          "output_type": "stream",
          "name": "stdout",
          "text": [
            "\n",
            "#include <stdio.h>\n",
            "typedef struct {\n",
            "    double v;\n",
            "    int t;\n",
            "    char c;\n",
            "} save_type;\n",
            "\n",
            "int main() {\n",
            "    save_type s = {7.5f, 15, 'A'};\n",
            "    FILE *fp = fopen(\"output\", \"w\");\n",
            "    fwrite(&s, sizeof(save_type), 1, fp);\n",
            "    fclose(fp);\n",
            "    return 0;\n",
            "}\n"
          ]
        }
      ]
    },
    {
      "cell_type": "code",
      "source": [
        "!pwd"
      ],
      "metadata": {
        "colab": {
          "base_uri": "https://localhost:8080/"
        },
        "id": "8oieW6o4uCSg",
        "outputId": "34098cf7-0cf7-40c9-d1b2-23a4a9c98472"
      },
      "execution_count": null,
      "outputs": [
        {
          "output_type": "stream",
          "name": "stdout",
          "text": [
            "/content\n"
          ]
        }
      ]
    },
    {
      "cell_type": "code",
      "source": [
        "!gcc struct_sample.c -o struct_sample"
      ],
      "metadata": {
        "colab": {
          "base_uri": "https://localhost:8080/"
        },
        "id": "poVx_ZQWuFLj",
        "outputId": "b037592c-2576-4415-f1e8-b19ad973cee3"
      },
      "execution_count": null,
      "outputs": [
        {
          "output_type": "stream",
          "name": "stdout",
          "text": [
            "\u001b[01m\u001b[Kstruct_sample.c:\u001b[m\u001b[K In function ‘\u001b[01m\u001b[Kmain\u001b[m\u001b[K’:\n",
            "\u001b[01m\u001b[Kstruct_sample.c:13:19:\u001b[m\u001b[K \u001b[01;31m\u001b[Kerror: \u001b[m\u001b[K‘\u001b[01m\u001b[Kstruct_sample\u001b[m\u001b[K’ undeclared (first use in this function)\n",
            "   13 |     printf(\"%d\\n\",\u001b[01;31m\u001b[Kstruct_sample\u001b[m\u001b[K)\n",
            "      |                   \u001b[01;31m\u001b[K^~~~~~~~~~~~~\u001b[m\u001b[K\n",
            "\u001b[01m\u001b[Kstruct_sample.c:13:19:\u001b[m\u001b[K \u001b[01;36m\u001b[Knote: \u001b[m\u001b[Keach undeclared identifier is reported only once for each function it appears in\n",
            "\u001b[01m\u001b[Kstruct_sample.c:13:33:\u001b[m\u001b[K \u001b[01;31m\u001b[Kerror: \u001b[m\u001b[Kexpected ‘\u001b[01m\u001b[K;\u001b[m\u001b[K’ before ‘\u001b[01m\u001b[Kfclose\u001b[m\u001b[K’\n",
            "   13 |     printf(\"%d\\n\",struct_sample)\n",
            "      |                                 \u001b[01;31m\u001b[K^\u001b[m\u001b[K\n",
            "      |                                 \u001b[32m\u001b[K;\u001b[m\u001b[K\n",
            "   14 |     \u001b[32m\u001b[Kfclose\u001b[m\u001b[K(fp);\n",
            "      |     \u001b[32m\u001b[K~~~~~~\u001b[m\u001b[K                       \n"
          ]
        }
      ]
    },
    {
      "cell_type": "code",
      "source": [
        "!struct_sample"
      ],
      "metadata": {
        "colab": {
          "base_uri": "https://localhost:8080/"
        },
        "id": "Qyx2bwhKuMVh",
        "outputId": "c4377918-1d9d-4190-a484-6a9d6e4fc0f4"
      },
      "execution_count": null,
      "outputs": [
        {
          "output_type": "stream",
          "name": "stdout",
          "text": [
            "/bin/bash: struct_sample: command not found\n"
          ]
        }
      ]
    },
    {
      "cell_type": "code",
      "source": [
        "!./struct_sample"
      ],
      "metadata": {
        "id": "LeQbXSGzuQgt"
      },
      "execution_count": null,
      "outputs": []
    },
    {
      "cell_type": "code",
      "source": [
        "import struct\n",
        "\n",
        "with open('output','rb') as f:\n",
        "  chunk=f.read(16)\n",
        "  result=struct.unpack('dicccc',chunk)\n",
        "print(result)"
      ],
      "metadata": {
        "colab": {
          "base_uri": "https://localhost:8080/"
        },
        "id": "AVdGzMsGuYyk",
        "outputId": "1a600589-2c2a-4ea4-f7f2-5d7a7036355a"
      },
      "execution_count": null,
      "outputs": [
        {
          "output_type": "stream",
          "name": "stdout",
          "text": [
            "(7.5, 15, b'A', b'U', b'\\x00', b'\\x00')\n"
          ]
        }
      ]
    },
    {
      "cell_type": "code",
      "source": [],
      "metadata": {
        "id": "Ox8e9e2ivaqB"
      },
      "execution_count": null,
      "outputs": []
    },
    {
      "cell_type": "markdown",
      "source": [
        "###005"
      ],
      "metadata": {
        "id": "Hv5t6Jjew9Fx"
      }
    },
    {
      "cell_type": "code",
      "source": [
        "import datetime\n",
        "\n",
        "day1=datetime.date(2019,12,14)\n",
        "day2=datetime.date(2021,6,5)"
      ],
      "metadata": {
        "id": "oqk9zPnzw-oK"
      },
      "execution_count": null,
      "outputs": []
    },
    {
      "cell_type": "code",
      "source": [
        "type(day1)"
      ],
      "metadata": {
        "colab": {
          "base_uri": "https://localhost:8080/"
        },
        "id": "LxlVYpvRxHJ1",
        "outputId": "6d686236-2bb1-44f3-ddab-e5714cf11151"
      },
      "execution_count": null,
      "outputs": [
        {
          "output_type": "execute_result",
          "data": {
            "text/plain": [
              "datetime.date"
            ]
          },
          "metadata": {},
          "execution_count": 53
        }
      ]
    },
    {
      "cell_type": "code",
      "source": [
        "diff=day2-day1\n",
        "diff.days"
      ],
      "metadata": {
        "colab": {
          "base_uri": "https://localhost:8080/"
        },
        "id": "sFMtlCMexRPi",
        "outputId": "cbc88197-f44d-43e4-a332-39f049328cce"
      },
      "execution_count": null,
      "outputs": [
        {
          "output_type": "execute_result",
          "data": {
            "text/plain": [
              "539"
            ]
          },
          "metadata": {},
          "execution_count": 57
        }
      ]
    },
    {
      "cell_type": "code",
      "source": [
        "day3=datetime.datetime(2020,12,14,14,10,50)   "
      ],
      "metadata": {
        "id": "EcXwWuf4xV5o"
      },
      "execution_count": null,
      "outputs": []
    },
    {
      "cell_type": "code",
      "source": [
        "day3.day"
      ],
      "metadata": {
        "colab": {
          "base_uri": "https://localhost:8080/"
        },
        "id": "zALcUwkpyKi8",
        "outputId": "83d502e1-9ade-46d7-def8-777bdadece79"
      },
      "execution_count": null,
      "outputs": [
        {
          "output_type": "execute_result",
          "data": {
            "text/plain": [
              "14"
            ]
          },
          "metadata": {},
          "execution_count": 66
        }
      ]
    },
    {
      "cell_type": "code",
      "source": [
        "day3.year"
      ],
      "metadata": {
        "colab": {
          "base_uri": "https://localhost:8080/"
        },
        "id": "PpJUHX-RyLbm",
        "outputId": "cd51d1bf-97d5-4567-f5a2-4c2fad46663c"
      },
      "execution_count": null,
      "outputs": [
        {
          "output_type": "execute_result",
          "data": {
            "text/plain": [
              "2020"
            ]
          },
          "metadata": {},
          "execution_count": 67
        }
      ]
    },
    {
      "cell_type": "code",
      "source": [
        "day3.minute"
      ],
      "metadata": {
        "colab": {
          "base_uri": "https://localhost:8080/"
        },
        "id": "FavQLlx2yM3i",
        "outputId": "a24ce4c9-679a-4b64-8ac2-b238542628d7"
      },
      "execution_count": null,
      "outputs": [
        {
          "output_type": "execute_result",
          "data": {
            "text/plain": [
              "10"
            ]
          },
          "metadata": {},
          "execution_count": 69
        }
      ]
    },
    {
      "cell_type": "code",
      "source": [
        "date=datetime.date(2019,12,14)\n",
        "time=datetime.time(10,43,50)\n",
        "\n",
        "dt=datetime.datetime.combine(date,time)"
      ],
      "metadata": {
        "id": "hhXY7OyJyORR"
      },
      "execution_count": null,
      "outputs": []
    },
    {
      "cell_type": "code",
      "source": [
        "dt"
      ],
      "metadata": {
        "colab": {
          "base_uri": "https://localhost:8080/"
        },
        "id": "ZBrSx1VzyhNn",
        "outputId": "ee8ca458-4372-41a8-8b86-7e70f3954392"
      },
      "execution_count": null,
      "outputs": [
        {
          "output_type": "execute_result",
          "data": {
            "text/plain": [
              "datetime.datetime(2019, 12, 14, 10, 43, 50)"
            ]
          },
          "metadata": {},
          "execution_count": 71
        }
      ]
    },
    {
      "cell_type": "code",
      "source": [
        "datetime.date(2023,3,14).weekday()\n",
        "# 기준: monday == 0 / 단, weekday일때만! isoweekday는 월욜이 1임. this is standard."
      ],
      "metadata": {
        "colab": {
          "base_uri": "https://localhost:8080/"
        },
        "id": "1fP034n-yiyx",
        "outputId": "607c36c4-44d1-45fa-d26a-20c4d0593b86"
      },
      "execution_count": null,
      "outputs": [
        {
          "output_type": "execute_result",
          "data": {
            "text/plain": [
              "1"
            ]
          },
          "metadata": {},
          "execution_count": 72
        }
      ]
    },
    {
      "cell_type": "code",
      "source": [
        "datetime.date(2023,3,14).isoweekday()"
      ],
      "metadata": {
        "colab": {
          "base_uri": "https://localhost:8080/"
        },
        "id": "0oBXr2DDyt2U",
        "outputId": "67f90d65-4f22-4b89-f513-e1b4086b1c14"
      },
      "execution_count": null,
      "outputs": [
        {
          "output_type": "execute_result",
          "data": {
            "text/plain": [
              "2"
            ]
          },
          "metadata": {},
          "execution_count": 74
        }
      ]
    },
    {
      "cell_type": "code",
      "source": [
        "wd=['mon','tue','wed','thu','fri','sat','sun']"
      ],
      "metadata": {
        "id": "s2JRbh0xy1lc"
      },
      "execution_count": null,
      "outputs": []
    },
    {
      "cell_type": "code",
      "source": [
        "wd[datetime.date(2023,3,14).weekday()]"
      ],
      "metadata": {
        "colab": {
          "base_uri": "https://localhost:8080/",
          "height": 35
        },
        "id": "RH8hZ0aKy-yu",
        "outputId": "6427e28e-2c95-4374-e46c-a13f834ac490"
      },
      "execution_count": null,
      "outputs": [
        {
          "output_type": "execute_result",
          "data": {
            "text/plain": [
              "'tue'"
            ],
            "application/vnd.google.colaboratory.intrinsic+json": {
              "type": "string"
            }
          },
          "metadata": {},
          "execution_count": 109
        }
      ]
    },
    {
      "cell_type": "code",
      "source": [
        "datetime.date.today().weekday()"
      ],
      "metadata": {
        "colab": {
          "base_uri": "https://localhost:8080/"
        },
        "id": "TSmlFGlxzGs6",
        "outputId": "562c4734-53a8-4c1c-f2ca-864181603d66"
      },
      "execution_count": null,
      "outputs": [
        {
          "output_type": "execute_result",
          "data": {
            "text/plain": [
              "1"
            ]
          },
          "metadata": {},
          "execution_count": 85
        }
      ]
    },
    {
      "cell_type": "markdown",
      "source": [
        "###006"
      ],
      "metadata": {
        "id": "eV6Uk4bpzr3u"
      }
    },
    {
      "cell_type": "code",
      "source": [
        "import datetime\n",
        "\n",
        "datetime.date.today() + datetime.timedelta(days=2,hours=100)"
      ],
      "metadata": {
        "colab": {
          "base_uri": "https://localhost:8080/"
        },
        "id": "Mepkwyz1zs7W",
        "outputId": "49ac9733-07fc-467d-c6c8-5280349d22b2"
      },
      "execution_count": null,
      "outputs": [
        {
          "output_type": "execute_result",
          "data": {
            "text/plain": [
              "datetime.date(2023, 3, 20)"
            ]
          },
          "metadata": {},
          "execution_count": 90
        }
      ]
    },
    {
      "cell_type": "code",
      "source": [
        "import calendar\n",
        "\n",
        "calendar.isleap(100)"
      ],
      "metadata": {
        "colab": {
          "base_uri": "https://localhost:8080/"
        },
        "id": "b67zzz5K0OeS",
        "outputId": "f0b8bec2-32e6-4a14-a9f5-0b992f2cf938"
      },
      "execution_count": null,
      "outputs": [
        {
          "output_type": "execute_result",
          "data": {
            "text/plain": [
              "False"
            ]
          },
          "metadata": {},
          "execution_count": 94
        }
      ]
    },
    {
      "cell_type": "code",
      "source": [
        "from collections import deque\n",
        "a=[1,2,3,4,5]\n",
        "q=deque(a)\n",
        "q.rotate(2)\n",
        "result=list(q) #deque형태를 함수를 이용해서 다시 list 로 변환.\n",
        "result"
      ],
      "metadata": {
        "colab": {
          "base_uri": "https://localhost:8080/"
        },
        "id": "lN2-bDwy2O5K",
        "outputId": "11588655-9db0-46b4-ca0c-86d229cf2920"
      },
      "execution_count": null,
      "outputs": [
        {
          "output_type": "execute_result",
          "data": {
            "text/plain": [
              "[4, 5, 1, 2, 3]"
            ]
          },
          "metadata": {},
          "execution_count": 96
        }
      ]
    },
    {
      "cell_type": "code",
      "source": [
        "l=[1,2,3,4,5]\n",
        "l.append(6)"
      ],
      "metadata": {
        "id": "azPIQY7d3dfD"
      },
      "execution_count": null,
      "outputs": []
    },
    {
      "cell_type": "code",
      "source": [
        "l"
      ],
      "metadata": {
        "colab": {
          "base_uri": "https://localhost:8080/"
        },
        "id": "_eGbyc4C4R5u",
        "outputId": "e0438dfc-194a-4602-c374-22580d722961"
      },
      "execution_count": null,
      "outputs": [
        {
          "output_type": "execute_result",
          "data": {
            "text/plain": [
              "[1, 2, 3, 4, 5, 6]"
            ]
          },
          "metadata": {},
          "execution_count": 98
        }
      ]
    },
    {
      "cell_type": "code",
      "source": [
        "l.pop(0)"
      ],
      "metadata": {
        "colab": {
          "base_uri": "https://localhost:8080/"
        },
        "id": "-GRbQggG4SlJ",
        "outputId": "9db70777-e18c-412f-f322-b36558f50ffc"
      },
      "execution_count": null,
      "outputs": [
        {
          "output_type": "execute_result",
          "data": {
            "text/plain": [
              "1"
            ]
          },
          "metadata": {},
          "execution_count": 99
        }
      ]
    },
    {
      "cell_type": "code",
      "source": [
        "l"
      ],
      "metadata": {
        "colab": {
          "base_uri": "https://localhost:8080/"
        },
        "id": "bh_u7-aV4W5t",
        "outputId": "879d4de1-df98-41f1-8548-39ea65071491"
      },
      "execution_count": null,
      "outputs": [
        {
          "output_type": "execute_result",
          "data": {
            "text/plain": [
              "[2, 3, 4, 5, 6]"
            ]
          },
          "metadata": {},
          "execution_count": 100
        }
      ]
    },
    {
      "cell_type": "code",
      "source": [
        "l.pop(3)"
      ],
      "metadata": {
        "colab": {
          "base_uri": "https://localhost:8080/"
        },
        "id": "pSRvQnfL4Xab",
        "outputId": "e6e9e295-7fd6-4067-af63-89efc49641cd"
      },
      "execution_count": null,
      "outputs": [
        {
          "output_type": "execute_result",
          "data": {
            "text/plain": [
              "5"
            ]
          },
          "metadata": {},
          "execution_count": 101
        }
      ]
    },
    {
      "cell_type": "code",
      "source": [
        "l"
      ],
      "metadata": {
        "colab": {
          "base_uri": "https://localhost:8080/"
        },
        "id": "n3YR1srW4aXI",
        "outputId": "50f3c33b-78c3-4b72-9293-a62b5adee838"
      },
      "execution_count": null,
      "outputs": [
        {
          "output_type": "execute_result",
          "data": {
            "text/plain": [
              "[2, 3, 4, 6]"
            ]
          },
          "metadata": {},
          "execution_count": 102
        }
      ]
    },
    {
      "cell_type": "code",
      "source": [
        "l.pop()  #그냥 pop쓰게 되면 맨 마지막 원소 제거하게 됨. 그리고 이름이 pop인 이유는 스택에서 push&pop named use."
      ],
      "metadata": {
        "colab": {
          "base_uri": "https://localhost:8080/"
        },
        "id": "OgFv_CwH4bYl",
        "outputId": "bfb33919-687f-446e-da67-e8f440c9529f"
      },
      "execution_count": null,
      "outputs": [
        {
          "output_type": "execute_result",
          "data": {
            "text/plain": [
              "4"
            ]
          },
          "metadata": {},
          "execution_count": 104
        }
      ]
    }
  ]
}