{
  "nbformat": 4,
  "nbformat_minor": 0,
  "metadata": {
    "colab": {
      "provenance": []
    },
    "kernelspec": {
      "name": "python3",
      "display_name": "Python 3"
    },
    "language_info": {
      "name": "python"
    }
  },
  "cells": [
    {
      "cell_type": "markdown",
      "source": [
        "### 017"
      ],
      "metadata": {
        "id": "VUk8xHLvwAgU"
      }
    },
    {
      "cell_type": "code",
      "execution_count": null,
      "metadata": {
        "colab": {
          "base_uri": "https://localhost:8080/"
        },
        "id": "aJjt2HLHmxoP",
        "outputId": "ef2cfa88-3953-4679-c5fb-8da54fde4abc"
      },
      "outputs": [
        {
          "output_type": "execute_result",
          "data": {
            "text/plain": [
              "20"
            ]
          },
          "metadata": {},
          "execution_count": 1
        }
      ],
      "source": [
        "import math\n",
        "math.gcd(60,100,80)"
      ]
    },
    {
      "cell_type": "code",
      "source": [
        "60/2.,100/20,80/20"
      ],
      "metadata": {
        "colab": {
          "base_uri": "https://localhost:8080/"
        },
        "id": "EBQbTTFPi091",
        "outputId": "c712363b-90a7-40f0-ea30-03cfe61a183e"
      },
      "execution_count": null,
      "outputs": [
        {
          "output_type": "execute_result",
          "data": {
            "text/plain": [
              "(30.0, 5.0, 4.0)"
            ]
          },
          "metadata": {},
          "execution_count": 1
        }
      ]
    },
    {
      "cell_type": "markdown",
      "source": [
        "### 018"
      ],
      "metadata": {
        "id": "ufl4aIZZwF36"
      }
    },
    {
      "cell_type": "code",
      "source": [
        "import math\n",
        "math.lcm(15,25)"
      ],
      "metadata": {
        "colab": {
          "base_uri": "https://localhost:8080/"
        },
        "id": "aUbu4cSgwr7X",
        "outputId": "34f79366-07cd-4a09-80dd-b11131e9f572"
      },
      "execution_count": null,
      "outputs": [
        {
          "output_type": "execute_result",
          "data": {
            "text/plain": [
              "75"
            ]
          },
          "metadata": {},
          "execution_count": 2
        }
      ]
    },
    {
      "cell_type": "markdown",
      "source": [
        "### 019"
      ],
      "metadata": {
        "id": "0N4lDJmFwIaX"
      }
    },
    {
      "cell_type": "code",
      "source": [
        "0.1*3==0.3"
      ],
      "metadata": {
        "colab": {
          "base_uri": "https://localhost:8080/"
        },
        "id": "_iUq2260ksVo",
        "outputId": "ce470e52-ff3a-44a1-f772-07f24041f628"
      },
      "execution_count": null,
      "outputs": [
        {
          "output_type": "execute_result",
          "data": {
            "text/plain": [
              "False"
            ]
          },
          "metadata": {},
          "execution_count": 3
        }
      ]
    },
    {
      "cell_type": "code",
      "source": [
        "0.1*3"
      ],
      "metadata": {
        "colab": {
          "base_uri": "https://localhost:8080/"
        },
        "id": "fJo5Lzy0kz0B",
        "outputId": "647e536c-00e4-41d9-90d3-a8914493add1"
      },
      "execution_count": null,
      "outputs": [
        {
          "output_type": "execute_result",
          "data": {
            "text/plain": [
              "0.30000000000000004"
            ]
          },
          "metadata": {},
          "execution_count": 4
        }
      ]
    },
    {
      "cell_type": "code",
      "source": [
        "import math\n",
        "\n",
        "print(math.isclose(0.1*3,0.3)) #0.1*3==0.3\n",
        "print(math.isclose(1.2-0.1,1.1))\n",
        "print(math.isclose(0.1*0.1,0.01))"
      ],
      "metadata": {
        "colab": {
          "base_uri": "https://localhost:8080/"
        },
        "id": "Do3wvb30wxFg",
        "outputId": "12a810ef-70a1-4d04-f77b-e7693b2b92b4"
      },
      "execution_count": null,
      "outputs": [
        {
          "output_type": "stream",
          "name": "stdout",
          "text": [
            "True\n",
            "True\n",
            "True\n"
          ]
        }
      ]
    },
    {
      "cell_type": "code",
      "source": [
        "from decimal import Decimal\n",
        "print(Decimal('0.1')*3)\n",
        "print(Decimal('1.2')-Decimal('0.1')) # return 자료형 : decimal\n",
        "print(Decimal('0.1')*Decimal('0.1'))\n",
        "print(float(Decimal('1.2')-Decimal('0.1'))==1.1) #다시 float형으로 바꿔서 비교함."
      ],
      "metadata": {
        "colab": {
          "base_uri": "https://localhost:8080/"
        },
        "id": "5OA9PyHCxOi0",
        "outputId": "36dbba43-244f-4a0b-b94b-8064be7b89ca"
      },
      "execution_count": null,
      "outputs": [
        {
          "output_type": "stream",
          "name": "stdout",
          "text": [
            "0.3\n",
            "1.1\n",
            "0.01\n",
            "True\n"
          ]
        }
      ]
    },
    {
      "cell_type": "markdown",
      "source": [
        "### 020 (fractions.Fracion)"
      ],
      "metadata": {
        "id": "-Z_KN333wLxw"
      }
    },
    {
      "cell_type": "code",
      "source": [
        "from fractions import Fraction\n",
        "a=Fraction(1,5)\n",
        "a"
      ],
      "metadata": {
        "colab": {
          "base_uri": "https://localhost:8080/"
        },
        "id": "pvOG9cZnx3vn",
        "outputId": "5b6df2f0-5394-4553-c347-627dc9bb9a17"
      },
      "execution_count": null,
      "outputs": [
        {
          "output_type": "execute_result",
          "data": {
            "text/plain": [
              "Fraction(1, 5)"
            ]
          },
          "metadata": {},
          "execution_count": 12
        }
      ]
    },
    {
      "cell_type": "code",
      "source": [
        "from fractions import Fraction\n",
        "a=Fraction(1/5) # 1을 5로 나눈 float형태 값이 Fraction인자로 들어감. 우리가 생각하는 1/5(분수)가 아님.\n",
        "a"
      ],
      "metadata": {
        "colab": {
          "base_uri": "https://localhost:8080/"
        },
        "id": "x6xUmA4vp1A6",
        "outputId": "c6b1bb05-44cd-4ab7-b11d-9f18e81e17eb"
      },
      "execution_count": null,
      "outputs": [
        {
          "output_type": "execute_result",
          "data": {
            "text/plain": [
              "Fraction(3602879701896397, 18014398509481984)"
            ]
          },
          "metadata": {},
          "execution_count": 7
        }
      ]
    },
    {
      "cell_type": "code",
      "source": [
        "a=Fraction('1/5')\n",
        "a"
      ],
      "metadata": {
        "colab": {
          "base_uri": "https://localhost:8080/"
        },
        "id": "O1qzbqGvx-4i",
        "outputId": "f5077bc6-11ca-4102-edcd-f83f73f786ff"
      },
      "execution_count": null,
      "outputs": [
        {
          "output_type": "execute_result",
          "data": {
            "text/plain": [
              "Fraction(1, 5)"
            ]
          },
          "metadata": {},
          "execution_count": 10
        }
      ]
    },
    {
      "cell_type": "code",
      "source": [
        "a.numerator"
      ],
      "metadata": {
        "colab": {
          "base_uri": "https://localhost:8080/"
        },
        "id": "xMZJ2NUfyCo0",
        "outputId": "df723fad-e641-43ac-d443-84e3d0040fe6"
      },
      "execution_count": null,
      "outputs": [
        {
          "output_type": "execute_result",
          "data": {
            "text/plain": [
              "1"
            ]
          },
          "metadata": {},
          "execution_count": 16
        }
      ]
    },
    {
      "cell_type": "code",
      "source": [
        "a.denominator"
      ],
      "metadata": {
        "colab": {
          "base_uri": "https://localhost:8080/"
        },
        "id": "sotZRTalyKIk",
        "outputId": "0227bc17-d0f6-44fa-e5c2-c7bca5414df5"
      },
      "execution_count": null,
      "outputs": [
        {
          "output_type": "execute_result",
          "data": {
            "text/plain": [
              "5"
            ]
          },
          "metadata": {},
          "execution_count": 11
        }
      ]
    },
    {
      "cell_type": "code",
      "source": [
        "a.real"
      ],
      "metadata": {
        "colab": {
          "base_uri": "https://localhost:8080/"
        },
        "id": "346_3krVqLrv",
        "outputId": "5511735a-a2db-4077-d9c1-f6fcfba575c3"
      },
      "execution_count": null,
      "outputs": [
        {
          "output_type": "execute_result",
          "data": {
            "text/plain": [
              "Fraction(1, 5)"
            ]
          },
          "metadata": {},
          "execution_count": 12
        }
      ]
    },
    {
      "cell_type": "code",
      "source": [
        "result=Fraction(1,5)+Fraction(2,5) #분수의 덧셈,뺄셈, 나눗셈, 곱셈 모두 지원\n",
        "result"
      ],
      "metadata": {
        "colab": {
          "base_uri": "https://localhost:8080/"
        },
        "id": "OK39t0iDyMqE",
        "outputId": "6d20510b-a0a5-4bb9-f7ae-95e231e7fd6a"
      },
      "execution_count": null,
      "outputs": [
        {
          "output_type": "execute_result",
          "data": {
            "text/plain": [
              "Fraction(3, 5)"
            ]
          },
          "metadata": {},
          "execution_count": 19
        }
      ]
    },
    {
      "cell_type": "code",
      "source": [
        "float(result)"
      ],
      "metadata": {
        "colab": {
          "base_uri": "https://localhost:8080/"
        },
        "id": "AMJM9fXNyTJi",
        "outputId": "f47cb9f6-1c94-4e37-a264-2b4c9a0c7839"
      },
      "execution_count": null,
      "outputs": [
        {
          "output_type": "execute_result",
          "data": {
            "text/plain": [
              "0.6"
            ]
          },
          "metadata": {},
          "execution_count": 20
        }
      ]
    },
    {
      "cell_type": "markdown",
      "source": [
        "### 021 random"
      ],
      "metadata": {
        "id": "-Hs4SERzwOSs"
      }
    },
    {
      "cell_type": "code",
      "source": [
        "# random_sample.py\n",
        "import random\n",
        "\n",
        "result = []\n",
        "while len(result) < 6:\n",
        "    num = random.randint(1, 45)  # 1~45 사이의 숫자중 임의의 숫자 생성\n",
        "    if num not in result:\n",
        "      result.append(num)\n",
        "\n",
        "print(result)  # 무작위 생성된 6개의 숫자 출력"
      ],
      "metadata": {
        "colab": {
          "base_uri": "https://localhost:8080/"
        },
        "id": "bDk5Ij-gyXoP",
        "outputId": "b3c2fbc5-d073-42a9-8e6e-4de941045222"
      },
      "execution_count": null,
      "outputs": [
        {
          "output_type": "stream",
          "name": "stdout",
          "text": [
            "[19, 9, 22, 29, 32, 35]\n"
          ]
        }
      ]
    },
    {
      "cell_type": "code",
      "source": [
        "result =[]\n",
        "for num in range(45):\n",
        "  result.append(num+1)\n",
        "\n",
        "print(result)"
      ],
      "metadata": {
        "colab": {
          "base_uri": "https://localhost:8080/"
        },
        "id": "PtdzeC3muqk_",
        "outputId": "d5ef2750-e830-4e0a-e4f2-f6c4b64014a8"
      },
      "execution_count": null,
      "outputs": [
        {
          "output_type": "stream",
          "name": "stdout",
          "text": [
            "[1, 2, 3, 4, 5, 6, 7, 8, 9, 10, 11, 12, 13, 14, 15, 16, 17, 18, 19, 20, 21, 22, 23, 24, 25, 26, 27, 28, 29, 30, 31, 32, 33, 34, 35, 36, 37, 38, 39, 40, 41, 42, 43, 44, 45]\n"
          ]
        }
      ]
    },
    {
      "cell_type": "code",
      "source": [
        "random.shuffle(result)\n",
        "print(result)"
      ],
      "metadata": {
        "colab": {
          "base_uri": "https://localhost:8080/"
        },
        "id": "VgORLZJ0u1-M",
        "outputId": "f4532403-9dbe-4a67-db7c-1a8cf90e7ca7"
      },
      "execution_count": null,
      "outputs": [
        {
          "output_type": "stream",
          "name": "stdout",
          "text": [
            "[1, 28, 31, 5, 39, 13, 11, 30, 37, 12, 9, 44, 29, 41, 26, 40, 43, 17, 20, 38, 32, 15, 42, 7, 33, 14, 22, 21, 23, 10, 4, 3, 25, 35, 18, 16, 34, 19, 36, 2, 24, 8, 27, 6, 45]\n"
          ]
        }
      ]
    },
    {
      "cell_type": "code",
      "source": [
        "result[:6]"
      ],
      "metadata": {
        "colab": {
          "base_uri": "https://localhost:8080/"
        },
        "id": "pCaRdOX4u7b5",
        "outputId": "24b91618-75a8-48c8-df6b-ddfdfb628c7c"
      },
      "execution_count": null,
      "outputs": [
        {
          "output_type": "execute_result",
          "data": {
            "text/plain": [
              "[1, 28, 31, 5, 39, 13]"
            ]
          },
          "metadata": {},
          "execution_count": 18
        }
      ]
    },
    {
      "cell_type": "code",
      "source": [
        "import random\n",
        "lotto=[]\n",
        "while len(lotto)<6:\n",
        "  num=random.choice(result)\n",
        "  if num not in lotto:\n",
        "    lotto.append(num)\n",
        "\n",
        "print(lotto)"
      ],
      "metadata": {
        "colab": {
          "base_uri": "https://localhost:8080/"
        },
        "id": "Z7X__F7pvX-e",
        "outputId": "7f7860ee-3a91-4aa7-b5c5-e7a766f21261"
      },
      "execution_count": null,
      "outputs": [
        {
          "output_type": "stream",
          "name": "stdout",
          "text": [
            "[38, 13, 29, 9, 44, 18]\n"
          ]
        }
      ]
    },
    {
      "cell_type": "code",
      "source": [
        "a=[1,2,3,4,5]\n",
        "random.shuffle(a)\n",
        "a"
      ],
      "metadata": {
        "colab": {
          "base_uri": "https://localhost:8080/"
        },
        "id": "pEKVeqgsyyxL",
        "outputId": "861e2a4a-fdc0-4d68-e025-1cbf32c07a7a"
      },
      "execution_count": null,
      "outputs": [
        {
          "output_type": "execute_result",
          "data": {
            "text/plain": [
              "[3, 5, 4, 2, 1]"
            ]
          },
          "metadata": {},
          "execution_count": 22
        }
      ]
    },
    {
      "cell_type": "code",
      "source": [
        "a=[1,2,3,4,5]\n",
        "random.choice(a)"
      ],
      "metadata": {
        "colab": {
          "base_uri": "https://localhost:8080/"
        },
        "id": "C9vGTKtpy4fF",
        "outputId": "4a25de04-bd74-48f6-c2e8-c96316a26fff"
      },
      "execution_count": null,
      "outputs": [
        {
          "output_type": "execute_result",
          "data": {
            "text/plain": [
              "2"
            ]
          },
          "metadata": {},
          "execution_count": 23
        }
      ]
    },
    {
      "cell_type": "markdown",
      "source": [
        "### 022 statistics"
      ],
      "metadata": {
        "id": "kPVOjxlJwQT6"
      }
    },
    {
      "cell_type": "code",
      "source": [
        "import statistics\n",
        "marks=[78,93,99,95,51,71,52,43,81,78]\n",
        "statistics.mean(marks)"
      ],
      "metadata": {
        "colab": {
          "base_uri": "https://localhost:8080/"
        },
        "id": "Bp9yvfkOy_0T",
        "outputId": "a922b75c-d8dd-49ba-96ad-c3a1543a692f"
      },
      "execution_count": null,
      "outputs": [
        {
          "output_type": "execute_result",
          "data": {
            "text/plain": [
              "74.1"
            ]
          },
          "metadata": {},
          "execution_count": 24
        }
      ]
    },
    {
      "cell_type": "code",
      "source": [
        "statistics.median(marks)"
      ],
      "metadata": {
        "colab": {
          "base_uri": "https://localhost:8080/"
        },
        "id": "xTBtiy3ozNG-",
        "outputId": "9230da6d-7e55-496c-9449-563738f89943"
      },
      "execution_count": null,
      "outputs": [
        {
          "output_type": "execute_result",
          "data": {
            "text/plain": [
              "78.0"
            ]
          },
          "metadata": {},
          "execution_count": 25
        }
      ]
    },
    {
      "cell_type": "markdown",
      "source": [
        "###023 (itertools.cycle)"
      ],
      "metadata": {
        "id": "nTInwiPrwSJU"
      }
    },
    {
      "cell_type": "code",
      "source": [
        "for i in [1,2,3]:\n",
        "  print(i)"
      ],
      "metadata": {
        "colab": {
          "base_uri": "https://localhost:8080/"
        },
        "id": "W2DpkvBWzIf1",
        "outputId": "958e0a17-bf09-40ae-f611-64761df6bc36"
      },
      "execution_count": null,
      "outputs": [
        {
          "output_type": "stream",
          "name": "stdout",
          "text": [
            "1\n",
            "2\n",
            "3\n"
          ]
        }
      ]
    },
    {
      "cell_type": "code",
      "source": [
        "lst=iter([1,2,3])\n",
        "lst"
      ],
      "metadata": {
        "colab": {
          "base_uri": "https://localhost:8080/"
        },
        "id": "9snIeKaczhNX",
        "outputId": "533f2212-f96b-408b-b823-a2dc4066cb49"
      },
      "execution_count": null,
      "outputs": [
        {
          "output_type": "execute_result",
          "data": {
            "text/plain": [
              "<list_iterator at 0x7f1f95ebcfd0>"
            ]
          },
          "metadata": {},
          "execution_count": 28
        }
      ]
    },
    {
      "cell_type": "code",
      "source": [
        "lst=iter([1,2,3])"
      ],
      "metadata": {
        "id": "1arWrsapz3Sc"
      },
      "execution_count": null,
      "outputs": []
    },
    {
      "cell_type": "code",
      "source": [
        "next(lst)"
      ],
      "metadata": {
        "colab": {
          "base_uri": "https://localhost:8080/"
        },
        "id": "cRaDN6M6z5CR",
        "outputId": "98507e3d-4ac9-4fdc-e15c-108d4e522dc4"
      },
      "execution_count": null,
      "outputs": [
        {
          "output_type": "execute_result",
          "data": {
            "text/plain": [
              "1"
            ]
          },
          "metadata": {},
          "execution_count": 30
        }
      ]
    },
    {
      "cell_type": "code",
      "source": [
        "next(lst)"
      ],
      "metadata": {
        "colab": {
          "base_uri": "https://localhost:8080/"
        },
        "id": "gFo9SR-0zvXU",
        "outputId": "8b9ec705-d6fa-4521-ccd3-3f462710d785"
      },
      "execution_count": null,
      "outputs": [
        {
          "output_type": "execute_result",
          "data": {
            "text/plain": [
              "2"
            ]
          },
          "metadata": {},
          "execution_count": 26
        }
      ]
    },
    {
      "cell_type": "code",
      "source": [
        "next(lst)"
      ],
      "metadata": {
        "colab": {
          "base_uri": "https://localhost:8080/"
        },
        "id": "fWCk4Uoczxqf",
        "outputId": "36353f48-c23c-4215-ef9b-3c72218f9f1a"
      },
      "execution_count": null,
      "outputs": [
        {
          "output_type": "execute_result",
          "data": {
            "text/plain": [
              "3"
            ]
          },
          "metadata": {},
          "execution_count": 27
        }
      ]
    },
    {
      "cell_type": "code",
      "source": [],
      "metadata": {
        "id": "u75oYDaAzy6l"
      },
      "execution_count": null,
      "outputs": []
    },
    {
      "cell_type": "code",
      "source": [
        "import itertools\n",
        "emp_pool=itertools.cycle(['김은경','이명자','이성진'])\n",
        "print(next(emp_pool))\n",
        "print(next(emp_pool))\n",
        "print(next(emp_pool))\n",
        "print(next(emp_pool))"
      ],
      "metadata": {
        "colab": {
          "base_uri": "https://localhost:8080/"
        },
        "id": "o3u3xLsszXME",
        "outputId": "66cba245-3bf5-4db9-e82b-5996b9795df2"
      },
      "execution_count": null,
      "outputs": [
        {
          "output_type": "stream",
          "name": "stdout",
          "text": [
            "김은경\n",
            "이명자\n",
            "이성진\n",
            "김은경\n"
          ]
        }
      ]
    },
    {
      "cell_type": "markdown",
      "source": [
        "###024 (itertools.accumulate())"
      ],
      "metadata": {
        "id": "JJEThXJpwTe-"
      }
    },
    {
      "cell_type": "code",
      "source": [
        "#itertools_accumulate_sample.py\n",
        "import itertools\n",
        "\n",
        "monthly_income = [1161, 1814, 1270, 2256, 1413, 1842, 2221, 2207, 2450, 2823, 2540, 2134]\n",
        "result = list(itertools.accumulate(monthly_income))\n",
        "\n",
        "print(result)"
      ],
      "metadata": {
        "colab": {
          "base_uri": "https://localhost:8080/"
        },
        "id": "Y-jq0Jtyzz2T",
        "outputId": "36f41c26-2780-4e08-c890-986b70a2ecce"
      },
      "execution_count": null,
      "outputs": [
        {
          "output_type": "stream",
          "name": "stdout",
          "text": [
            "[1161, 2975, 4245, 6501, 7914, 9756, 11977, 14184, 16634, 19457, 21997, 24131]\n"
          ]
        }
      ]
    },
    {
      "cell_type": "code",
      "source": [
        "# 일반적으로 생각나는 방법\n",
        "monthly_income = [1161, 1814, 1270, 2256, 1413, 1842, 2221, 2207, 2450, 2823, 2540, 2134]\n",
        "accum_income=[]\n",
        "\n",
        "for i,income in enumerate(monthly_income):\n",
        "  if i<1:\n",
        "    accum_income.append(income)\n",
        "  else:\n",
        "    accum_income.append(accum_income[i-1]+income)\n",
        "\n",
        "print(accum_income)"
      ],
      "metadata": {
        "colab": {
          "base_uri": "https://localhost:8080/"
        },
        "id": "Jg-HjQIv1FV2",
        "outputId": "00376ba8-01f0-4417-c0fa-89b329489394"
      },
      "execution_count": null,
      "outputs": [
        {
          "output_type": "stream",
          "name": "stdout",
          "text": [
            "[1161, 2975, 4245, 6501, 7914, 9756, 11977, 14184, 16634, 19457, 21997, 24131]\n"
          ]
        }
      ]
    },
    {
      "cell_type": "code",
      "source": [
        "import itertools\n",
        "montly_income=[1161,1814,1270,2256,1413,1842,2221,2207,2450,2823,2540,2134]\n",
        "result=list(itertools.accumulate(monthly_income,max))\n",
        "\n",
        "print(result)"
      ],
      "metadata": {
        "colab": {
          "base_uri": "https://localhost:8080/"
        },
        "id": "CC-SA1K_0EUJ",
        "outputId": "43269a34-0ec2-41f7-faa4-ff63ebef9150"
      },
      "execution_count": null,
      "outputs": [
        {
          "output_type": "stream",
          "name": "stdout",
          "text": [
            "[1161, 1814, 1814, 2256, 2256, 2256, 2256, 2256, 2450, 2823, 2823, 2823]\n"
          ]
        }
      ]
    }
  ]
}